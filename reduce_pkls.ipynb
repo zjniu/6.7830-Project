{
 "cells": [
  {
   "cell_type": "code",
   "execution_count": 1,
   "id": "46331351-8b7e-4987-9812-6bc6580963a5",
   "metadata": {},
   "outputs": [],
   "source": [
    "import pickle\n",
    "import shutil\n",
    "\n",
    "from pathlib import Path"
   ]
  },
  {
   "cell_type": "code",
   "execution_count": 2,
   "id": "04f175c5-f158-4741-a9e3-7c2c9c5ad5ca",
   "metadata": {},
   "outputs": [],
   "source": [
    "# Remove items from Ising model results.pkl files to reduce size.\n",
    "\n",
    "src_dir = Path('save/ising')\n",
    "dst_dir = Path('save/ising_reduced')\n",
    "\n",
    "for results_path in src_dir.rglob('results.pkl'):\n",
    "    \n",
    "    rel_path = results_path.relative_to(src_dir)\n",
    "    new_results_path = dst_dir / rel_path\n",
    "\n",
    "    with open(results_path, 'rb') as f:\n",
    "        results = pickle.load(f)\n",
    "        results.pop('xs', None)\n",
    "        results.pop('chains', None)\n",
    "        results.pop('hops', None)\n",
    "        results.pop('times', None)\n",
    "        results.pop('means', None)\n",
    "\n",
    "    new_results_path.parent.mkdir(parents=True, exist_ok=True)\n",
    "\n",
    "    with open(new_results_path, 'wb') as f:\n",
    "        pickle.dump(results, f)\n",
    "\n",
    "for file_path in src_dir.rglob('*'):\n",
    "    \n",
    "    if file_path.is_file() and file_path.name != 'results.pkl':\n",
    "        \n",
    "        rel_path = file_path.relative_to(src_dir)\n",
    "        new_file_path = dst_dir / rel_path\n",
    "        new_file_path.parent.mkdir(parents=True, exist_ok=True)\n",
    "        shutil.copy2(file_path, new_file_path)"
   ]
  },
  {
   "cell_type": "code",
   "execution_count": 3,
   "id": "d8eae029-33ef-453e-81f9-c0f8e09f06a8",
   "metadata": {},
   "outputs": [],
   "source": [
    "# Remove items from RBM results.pkl files to reduce size.\n",
    "\n",
    "src_dir = Path('save/rbm')\n",
    "dst_dir = Path('save/rbm_reduced')\n",
    "\n",
    "for results_path in src_dir.rglob('results.pkl'):\n",
    "    \n",
    "    rel_path = results_path.relative_to(src_dir)\n",
    "    new_results_path = dst_dir / rel_path\n",
    "\n",
    "    with open(results_path, 'rb') as f:\n",
    "        results = pickle.load(f)\n",
    "        results.pop('xs', None)\n",
    "        results.pop('chains', None)\n",
    "        results.pop('hops', None)\n",
    "        results.pop('times', None)\n",
    "\n",
    "    new_results_path.parent.mkdir(parents=True, exist_ok=True)\n",
    "\n",
    "    with open(new_results_path, 'wb') as f:\n",
    "        pickle.dump(results, f)\n",
    "\n",
    "for file_path in src_dir.rglob('*'):\n",
    "    \n",
    "    if file_path.is_file() and file_path.name != 'results.pkl':\n",
    "        \n",
    "        rel_path = file_path.relative_to(src_dir)\n",
    "        new_file_path = dst_dir / rel_path\n",
    "        new_file_path.parent.mkdir(parents=True, exist_ok=True)\n",
    "        shutil.copy2(file_path, new_file_path)"
   ]
  },
  {
   "cell_type": "code",
   "execution_count": null,
   "id": "b3224a01-dea4-42cf-9d6b-216c952cacae",
   "metadata": {},
   "outputs": [],
   "source": []
  }
 ],
 "metadata": {
  "kernelspec": {
   "display_name": "Python 3 (ipykernel)",
   "language": "python",
   "name": "python3"
  },
  "language_info": {
   "codemirror_mode": {
    "name": "ipython",
    "version": 3
   },
   "file_extension": ".py",
   "mimetype": "text/x-python",
   "name": "python",
   "nbconvert_exporter": "python",
   "pygments_lexer": "ipython3",
   "version": "3.11.11"
  }
 },
 "nbformat": 4,
 "nbformat_minor": 5
}
